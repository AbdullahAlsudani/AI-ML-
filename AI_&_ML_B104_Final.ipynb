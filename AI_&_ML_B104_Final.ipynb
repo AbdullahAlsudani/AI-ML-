{
  "nbformat": 4,
  "nbformat_minor": 0,
  "metadata": {
    "colab": {
      "provenance": []
    },
    "kernelspec": {
      "name": "python3",
      "display_name": "Python 3"
    },
    "language_info": {
      "name": "python"
    }
  },
  "cells": [
    {
      "cell_type": "markdown",
      "source": [
        "# **Retail Price Optimization Using Machine Learning**\n",
        "\n",
        "## **. Introduction**\n",
        "\n",
        "The goal of this project is to optimize retail pricing by predicting total product prices based on features such as product quantity, unit price, competitor prices, and shipping costs. Accurate price prediction is crucial for adjusting pricing strategies to remain competitive and maximize revenue.\n",
        "\n",
        "\n",
        "\n",
        "\n",
        "\n",
        "\n",
        "- **Business Problem**: The goal of this project is to predict the total product prices in retail setting using ML. this will help the company optimize its pricing strategy to maximize revenue and remain competitive in the market.\n",
        "\n",
        "- **Importance**: Accurate price prediction is important for adjusting prices in response to market conditions , demands and competition , leading to a better decision-making and profitability.\n",
        "\n",
        "\n",
        "- **Approach**: We explore different ML models , including Linear Regression , Random Forest and Gradient Boosting , to determine the most accurate model for predicting total prices . The best model is selected based on error metrics such as Mean Absolute Error (MAE) and Mean Squared Error (MSE).\n"
      ],
      "metadata": {
        "id": "Ar2wt5HOsm9S"
      }
    },
    {
      "cell_type": "code",
      "execution_count": null,
      "metadata": {
        "colab": {
          "base_uri": "https://localhost:8080/",
          "height": 89
        },
        "id": "epVW26Shle2w",
        "outputId": "5d2dc6d9-28a1-43fd-d00b-6a50abb72325"
      },
      "outputs": [
        {
          "output_type": "display_data",
          "data": {
            "text/plain": [
              "<IPython.core.display.HTML object>"
            ],
            "text/html": [
              "\n",
              "     <input type=\"file\" id=\"files-e98364b1-518b-444d-98f2-0dba38d3fb80\" name=\"files[]\" multiple disabled\n",
              "        style=\"border:none\" />\n",
              "     <output id=\"result-e98364b1-518b-444d-98f2-0dba38d3fb80\">\n",
              "      Upload widget is only available when the cell has been executed in the\n",
              "      current browser session. Please rerun this cell to enable.\n",
              "      </output>\n",
              "      <script>// Copyright 2017 Google LLC\n",
              "//\n",
              "// Licensed under the Apache License, Version 2.0 (the \"License\");\n",
              "// you may not use this file except in compliance with the License.\n",
              "// You may obtain a copy of the License at\n",
              "//\n",
              "//      http://www.apache.org/licenses/LICENSE-2.0\n",
              "//\n",
              "// Unless required by applicable law or agreed to in writing, software\n",
              "// distributed under the License is distributed on an \"AS IS\" BASIS,\n",
              "// WITHOUT WARRANTIES OR CONDITIONS OF ANY KIND, either express or implied.\n",
              "// See the License for the specific language governing permissions and\n",
              "// limitations under the License.\n",
              "\n",
              "/**\n",
              " * @fileoverview Helpers for google.colab Python module.\n",
              " */\n",
              "(function(scope) {\n",
              "function span(text, styleAttributes = {}) {\n",
              "  const element = document.createElement('span');\n",
              "  element.textContent = text;\n",
              "  for (const key of Object.keys(styleAttributes)) {\n",
              "    element.style[key] = styleAttributes[key];\n",
              "  }\n",
              "  return element;\n",
              "}\n",
              "\n",
              "// Max number of bytes which will be uploaded at a time.\n",
              "const MAX_PAYLOAD_SIZE = 100 * 1024;\n",
              "\n",
              "function _uploadFiles(inputId, outputId) {\n",
              "  const steps = uploadFilesStep(inputId, outputId);\n",
              "  const outputElement = document.getElementById(outputId);\n",
              "  // Cache steps on the outputElement to make it available for the next call\n",
              "  // to uploadFilesContinue from Python.\n",
              "  outputElement.steps = steps;\n",
              "\n",
              "  return _uploadFilesContinue(outputId);\n",
              "}\n",
              "\n",
              "// This is roughly an async generator (not supported in the browser yet),\n",
              "// where there are multiple asynchronous steps and the Python side is going\n",
              "// to poll for completion of each step.\n",
              "// This uses a Promise to block the python side on completion of each step,\n",
              "// then passes the result of the previous step as the input to the next step.\n",
              "function _uploadFilesContinue(outputId) {\n",
              "  const outputElement = document.getElementById(outputId);\n",
              "  const steps = outputElement.steps;\n",
              "\n",
              "  const next = steps.next(outputElement.lastPromiseValue);\n",
              "  return Promise.resolve(next.value.promise).then((value) => {\n",
              "    // Cache the last promise value to make it available to the next\n",
              "    // step of the generator.\n",
              "    outputElement.lastPromiseValue = value;\n",
              "    return next.value.response;\n",
              "  });\n",
              "}\n",
              "\n",
              "/**\n",
              " * Generator function which is called between each async step of the upload\n",
              " * process.\n",
              " * @param {string} inputId Element ID of the input file picker element.\n",
              " * @param {string} outputId Element ID of the output display.\n",
              " * @return {!Iterable<!Object>} Iterable of next steps.\n",
              " */\n",
              "function* uploadFilesStep(inputId, outputId) {\n",
              "  const inputElement = document.getElementById(inputId);\n",
              "  inputElement.disabled = false;\n",
              "\n",
              "  const outputElement = document.getElementById(outputId);\n",
              "  outputElement.innerHTML = '';\n",
              "\n",
              "  const pickedPromise = new Promise((resolve) => {\n",
              "    inputElement.addEventListener('change', (e) => {\n",
              "      resolve(e.target.files);\n",
              "    });\n",
              "  });\n",
              "\n",
              "  const cancel = document.createElement('button');\n",
              "  inputElement.parentElement.appendChild(cancel);\n",
              "  cancel.textContent = 'Cancel upload';\n",
              "  const cancelPromise = new Promise((resolve) => {\n",
              "    cancel.onclick = () => {\n",
              "      resolve(null);\n",
              "    };\n",
              "  });\n",
              "\n",
              "  // Wait for the user to pick the files.\n",
              "  const files = yield {\n",
              "    promise: Promise.race([pickedPromise, cancelPromise]),\n",
              "    response: {\n",
              "      action: 'starting',\n",
              "    }\n",
              "  };\n",
              "\n",
              "  cancel.remove();\n",
              "\n",
              "  // Disable the input element since further picks are not allowed.\n",
              "  inputElement.disabled = true;\n",
              "\n",
              "  if (!files) {\n",
              "    return {\n",
              "      response: {\n",
              "        action: 'complete',\n",
              "      }\n",
              "    };\n",
              "  }\n",
              "\n",
              "  for (const file of files) {\n",
              "    const li = document.createElement('li');\n",
              "    li.append(span(file.name, {fontWeight: 'bold'}));\n",
              "    li.append(span(\n",
              "        `(${file.type || 'n/a'}) - ${file.size} bytes, ` +\n",
              "        `last modified: ${\n",
              "            file.lastModifiedDate ? file.lastModifiedDate.toLocaleDateString() :\n",
              "                                    'n/a'} - `));\n",
              "    const percent = span('0% done');\n",
              "    li.appendChild(percent);\n",
              "\n",
              "    outputElement.appendChild(li);\n",
              "\n",
              "    const fileDataPromise = new Promise((resolve) => {\n",
              "      const reader = new FileReader();\n",
              "      reader.onload = (e) => {\n",
              "        resolve(e.target.result);\n",
              "      };\n",
              "      reader.readAsArrayBuffer(file);\n",
              "    });\n",
              "    // Wait for the data to be ready.\n",
              "    let fileData = yield {\n",
              "      promise: fileDataPromise,\n",
              "      response: {\n",
              "        action: 'continue',\n",
              "      }\n",
              "    };\n",
              "\n",
              "    // Use a chunked sending to avoid message size limits. See b/62115660.\n",
              "    let position = 0;\n",
              "    do {\n",
              "      const length = Math.min(fileData.byteLength - position, MAX_PAYLOAD_SIZE);\n",
              "      const chunk = new Uint8Array(fileData, position, length);\n",
              "      position += length;\n",
              "\n",
              "      const base64 = btoa(String.fromCharCode.apply(null, chunk));\n",
              "      yield {\n",
              "        response: {\n",
              "          action: 'append',\n",
              "          file: file.name,\n",
              "          data: base64,\n",
              "        },\n",
              "      };\n",
              "\n",
              "      let percentDone = fileData.byteLength === 0 ?\n",
              "          100 :\n",
              "          Math.round((position / fileData.byteLength) * 100);\n",
              "      percent.textContent = `${percentDone}% done`;\n",
              "\n",
              "    } while (position < fileData.byteLength);\n",
              "  }\n",
              "\n",
              "  // All done.\n",
              "  yield {\n",
              "    response: {\n",
              "      action: 'complete',\n",
              "    }\n",
              "  };\n",
              "}\n",
              "\n",
              "scope.google = scope.google || {};\n",
              "scope.google.colab = scope.google.colab || {};\n",
              "scope.google.colab._files = {\n",
              "  _uploadFiles,\n",
              "  _uploadFilesContinue,\n",
              "};\n",
              "})(self);\n",
              "</script> "
            ]
          },
          "metadata": {}
        },
        {
          "output_type": "stream",
          "name": "stdout",
          "text": [
            "Saving kaggle (2).json to kaggle (2) (1).json\n"
          ]
        },
        {
          "output_type": "execute_result",
          "data": {
            "text/plain": [
              "{'kaggle (2) (1).json': b'{\"username\":\"abdullahalsudani\",\"key\":\"9217e7ce48f5bb25d20878c02d1c39a9\"}'}"
            ]
          },
          "metadata": {},
          "execution_count": 26
        }
      ],
      "source": [
        "# setting up kaggle\n",
        "# uploading the dataset\n",
        "\n",
        "from google.colab import files\n",
        "files.upload()"
      ]
    },
    {
      "cell_type": "code",
      "source": [
        "# install kaggle package\n",
        "!pip install kaggle\n",
        "\n",
        "# make a directory and move JSON file to it\n",
        "\n",
        "!mkdir -p~/.kaggle\n",
        "!chmod 600 ~/.kaggle/kaggle.json\n",
        "\n",
        "# download the dataset\n",
        "\n",
        "!kaggle datasets download -d suddharshan/retail-price-optimization\n",
        "\n",
        "# unzip the downloaded file\n",
        "\n",
        "!unzip retail-price-optimization.zip"
      ],
      "metadata": {
        "colab": {
          "base_uri": "https://localhost:8080/"
        },
        "id": "tgsjT4S-miD7",
        "outputId": "9dd7c6c0-81fd-4cd7-9967-efb232e9b76b"
      },
      "execution_count": null,
      "outputs": [
        {
          "output_type": "stream",
          "name": "stdout",
          "text": [
            "Requirement already satisfied: kaggle in /usr/local/lib/python3.10/dist-packages (1.6.17)\n",
            "Requirement already satisfied: six>=1.10 in /usr/local/lib/python3.10/dist-packages (from kaggle) (1.16.0)\n",
            "Requirement already satisfied: certifi>=2023.7.22 in /usr/local/lib/python3.10/dist-packages (from kaggle) (2024.8.30)\n",
            "Requirement already satisfied: python-dateutil in /usr/local/lib/python3.10/dist-packages (from kaggle) (2.8.2)\n",
            "Requirement already satisfied: requests in /usr/local/lib/python3.10/dist-packages (from kaggle) (2.32.3)\n",
            "Requirement already satisfied: tqdm in /usr/local/lib/python3.10/dist-packages (from kaggle) (4.66.5)\n",
            "Requirement already satisfied: python-slugify in /usr/local/lib/python3.10/dist-packages (from kaggle) (8.0.4)\n",
            "Requirement already satisfied: urllib3 in /usr/local/lib/python3.10/dist-packages (from kaggle) (2.0.7)\n",
            "Requirement already satisfied: bleach in /usr/local/lib/python3.10/dist-packages (from kaggle) (6.1.0)\n",
            "Requirement already satisfied: webencodings in /usr/local/lib/python3.10/dist-packages (from bleach->kaggle) (0.5.1)\n",
            "Requirement already satisfied: text-unidecode>=1.3 in /usr/local/lib/python3.10/dist-packages (from python-slugify->kaggle) (1.3)\n",
            "Requirement already satisfied: charset-normalizer<4,>=2 in /usr/local/lib/python3.10/dist-packages (from requests->kaggle) (3.3.2)\n",
            "Requirement already satisfied: idna<4,>=2.5 in /usr/local/lib/python3.10/dist-packages (from requests->kaggle) (3.10)\n",
            "mkdir: invalid option -- '~'\n",
            "Try 'mkdir --help' for more information.\n",
            "chmod: cannot access '/root/.kaggle/kaggle.json': No such file or directory\n",
            "Dataset URL: https://www.kaggle.com/datasets/suddharshan/retail-price-optimization\n",
            "License(s): CC0-1.0\n",
            "retail-price-optimization.zip: Skipping, found more recently modified local copy (use --force to force download)\n",
            "Archive:  retail-price-optimization.zip\n",
            "replace retail_price.csv? [y]es, [n]o, [A]ll, [N]one, [r]ename: "
          ]
        }
      ]
    },
    {
      "cell_type": "code",
      "source": [
        "# loading the dataset\n",
        "\n",
        "import pandas as pd\n",
        "\n",
        "data = pd.read_csv('retail_price.csv')\n",
        "\n",
        "# display first rows\n",
        "\n",
        "print(data.head())"
      ],
      "metadata": {
        "colab": {
          "base_uri": "https://localhost:8080/"
        },
        "id": "COGsznLioJQS",
        "outputId": "2de80614-e656-420d-ac13-c5819b333e4e"
      },
      "execution_count": null,
      "outputs": [
        {
          "output_type": "stream",
          "name": "stdout",
          "text": [
            "  product_id product_category_name  month_year  qty  total_price  \\\n",
            "0       bed1        bed_bath_table  01-05-2017    1        45.95   \n",
            "1       bed1        bed_bath_table  01-06-2017    3       137.85   \n",
            "2       bed1        bed_bath_table  01-07-2017    6       275.70   \n",
            "3       bed1        bed_bath_table  01-08-2017    4       183.80   \n",
            "4       bed1        bed_bath_table  01-09-2017    2        91.90   \n",
            "\n",
            "   freight_price  unit_price  product_name_lenght  product_description_lenght  \\\n",
            "0      15.100000       45.95                   39                         161   \n",
            "1      12.933333       45.95                   39                         161   \n",
            "2      14.840000       45.95                   39                         161   \n",
            "3      14.287500       45.95                   39                         161   \n",
            "4      15.100000       45.95                   39                         161   \n",
            "\n",
            "   product_photos_qty  ...  comp_1  ps1        fp1      comp_2  ps2  \\\n",
            "0                   2  ...    89.9  3.9  15.011897  215.000000  4.4   \n",
            "1                   2  ...    89.9  3.9  14.769216  209.000000  4.4   \n",
            "2                   2  ...    89.9  3.9  13.993833  205.000000  4.4   \n",
            "3                   2  ...    89.9  3.9  14.656757  199.509804  4.4   \n",
            "4                   2  ...    89.9  3.9  18.776522  163.398710  4.4   \n",
            "\n",
            "         fp2  comp_3  ps3        fp3  lag_price  \n",
            "0   8.760000   45.95  4.0  15.100000      45.90  \n",
            "1  21.322000   45.95  4.0  12.933333      45.95  \n",
            "2  22.195932   45.95  4.0  14.840000      45.95  \n",
            "3  19.412885   45.95  4.0  14.287500      45.95  \n",
            "4  24.324687   45.95  4.0  15.100000      45.95  \n",
            "\n",
            "[5 rows x 30 columns]\n"
          ]
        }
      ]
    },
    {
      "cell_type": "markdown",
      "source": [
        "# Data Exploration\n"
      ],
      "metadata": {
        "id": "OCRpgEimRuOI"
      }
    },
    {
      "cell_type": "markdown",
      "source": [
        "**Dataset Overview:**\n",
        "\n",
        "**-** Inspecting the Dataset :\n",
        "\n",
        " * Check the columns and data types to understand the core structure of this dataset:"
      ],
      "metadata": {
        "id": "wG1gxrswTh7A"
      }
    },
    {
      "cell_type": "code",
      "source": [
        "# Basic Information About the Dataset\n",
        "\n",
        "data.info()\n",
        "\n",
        "\n",
        "print(\"\\n\\n\")\n",
        "\n",
        "\n",
        "# Display Column Names\n",
        "\n",
        "print(data.columns)"
      ],
      "metadata": {
        "id": "3DamfYoDomPK",
        "colab": {
          "base_uri": "https://localhost:8080/"
        },
        "outputId": "4b7344ca-bb06-4ff4-c716-7540174847d5"
      },
      "execution_count": null,
      "outputs": [
        {
          "output_type": "stream",
          "name": "stdout",
          "text": [
            "<class 'pandas.core.frame.DataFrame'>\n",
            "RangeIndex: 676 entries, 0 to 675\n",
            "Data columns (total 30 columns):\n",
            " #   Column                      Non-Null Count  Dtype  \n",
            "---  ------                      --------------  -----  \n",
            " 0   product_id                  676 non-null    object \n",
            " 1   product_category_name       676 non-null    object \n",
            " 2   month_year                  676 non-null    object \n",
            " 3   qty                         676 non-null    int64  \n",
            " 4   total_price                 676 non-null    float64\n",
            " 5   freight_price               676 non-null    float64\n",
            " 6   unit_price                  676 non-null    float64\n",
            " 7   product_name_lenght         676 non-null    int64  \n",
            " 8   product_description_lenght  676 non-null    int64  \n",
            " 9   product_photos_qty          676 non-null    int64  \n",
            " 10  product_weight_g            676 non-null    int64  \n",
            " 11  product_score               676 non-null    float64\n",
            " 12  customers                   676 non-null    int64  \n",
            " 13  weekday                     676 non-null    int64  \n",
            " 14  weekend                     676 non-null    int64  \n",
            " 15  holiday                     676 non-null    int64  \n",
            " 16  month                       676 non-null    int64  \n",
            " 17  year                        676 non-null    int64  \n",
            " 18  s                           676 non-null    float64\n",
            " 19  volume                      676 non-null    int64  \n",
            " 20  comp_1                      676 non-null    float64\n",
            " 21  ps1                         676 non-null    float64\n",
            " 22  fp1                         676 non-null    float64\n",
            " 23  comp_2                      676 non-null    float64\n",
            " 24  ps2                         676 non-null    float64\n",
            " 25  fp2                         676 non-null    float64\n",
            " 26  comp_3                      676 non-null    float64\n",
            " 27  ps3                         676 non-null    float64\n",
            " 28  fp3                         676 non-null    float64\n",
            " 29  lag_price                   676 non-null    float64\n",
            "dtypes: float64(15), int64(12), object(3)\n",
            "memory usage: 158.6+ KB\n",
            "\n",
            "\n",
            "\n",
            "Index(['product_id', 'product_category_name', 'month_year', 'qty',\n",
            "       'total_price', 'freight_price', 'unit_price', 'product_name_lenght',\n",
            "       'product_description_lenght', 'product_photos_qty', 'product_weight_g',\n",
            "       'product_score', 'customers', 'weekday', 'weekend', 'holiday', 'month',\n",
            "       'year', 's', 'volume', 'comp_1', 'ps1', 'fp1', 'comp_2', 'ps2', 'fp2',\n",
            "       'comp_3', 'ps3', 'fp3', 'lag_price'],\n",
            "      dtype='object')\n"
          ]
        }
      ]
    },
    {
      "cell_type": "markdown",
      "source": [
        "**2 -** Statistical Summaries:\n",
        "\n",
        "\n",
        "*   Have a quick statistical view of the numerical features to see their range , anomalies and distribution:\n"
      ],
      "metadata": {
        "id": "Al7cPlzsU7Lr"
      }
    },
    {
      "cell_type": "code",
      "source": [
        "print(data.describe())"
      ],
      "metadata": {
        "colab": {
          "base_uri": "https://localhost:8080/"
        },
        "id": "nHeyMz41Sua3",
        "outputId": "92c5758e-959f-4640-90fc-d85c83d64acd"
      },
      "execution_count": null,
      "outputs": [
        {
          "output_type": "stream",
          "name": "stdout",
          "text": [
            "              qty   total_price  freight_price  unit_price  \\\n",
            "count  676.000000    676.000000     676.000000  676.000000   \n",
            "mean    14.495562   1422.708728      20.682270  106.496800   \n",
            "std     15.443421   1700.123100      10.081817   76.182972   \n",
            "min      1.000000     19.900000       0.000000   19.900000   \n",
            "25%      4.000000    333.700000      14.761912   53.900000   \n",
            "50%     10.000000    807.890000      17.518472   89.900000   \n",
            "75%     18.000000   1887.322500      22.713558  129.990000   \n",
            "max    122.000000  12095.000000      79.760000  364.000000   \n",
            "\n",
            "       product_name_lenght  product_description_lenght  product_photos_qty  \\\n",
            "count           676.000000                  676.000000          676.000000   \n",
            "mean             48.720414                  767.399408            1.994083   \n",
            "std               9.420715                  655.205015            1.420473   \n",
            "min              29.000000                  100.000000            1.000000   \n",
            "25%              40.000000                  339.000000            1.000000   \n",
            "50%              51.000000                  501.000000            1.500000   \n",
            "75%              57.000000                  903.000000            2.000000   \n",
            "max              60.000000                 3006.000000            8.000000   \n",
            "\n",
            "       product_weight_g  product_score   customers  ...      comp_1  \\\n",
            "count        676.000000     676.000000  676.000000  ...  676.000000   \n",
            "mean        1847.498521       4.085503   81.028107  ...   79.452054   \n",
            "std         2274.808483       0.232021   62.055560  ...   47.933358   \n",
            "min          100.000000       3.300000    1.000000  ...   19.900000   \n",
            "25%          348.000000       3.900000   34.000000  ...   49.910000   \n",
            "50%          950.000000       4.100000   62.000000  ...   69.900000   \n",
            "75%         1850.000000       4.200000  116.000000  ...  104.256549   \n",
            "max         9750.000000       4.500000  339.000000  ...  349.900000   \n",
            "\n",
            "              ps1         fp1      comp_2         ps2         fp2      comp_3  \\\n",
            "count  676.000000  676.000000  676.000000  676.000000  676.000000  676.000000   \n",
            "mean     4.159467   18.597610   92.930079    4.123521   18.620644   84.182642   \n",
            "std      0.121652    9.406537   49.481269    0.207189    6.424174   47.745789   \n",
            "min      3.700000    0.095439   19.900000    3.300000    4.410000   19.900000   \n",
            "25%      4.100000   13.826429   53.900000    4.100000   14.485000   53.785714   \n",
            "50%      4.200000   16.618984   89.990000    4.200000   16.811765   59.900000   \n",
            "75%      4.200000   19.732500  117.888889    4.200000   21.665238   99.990000   \n",
            "max      4.500000   57.230000  349.900000    4.400000   57.230000  255.610000   \n",
            "\n",
            "              ps3         fp3   lag_price  \n",
            "count  676.000000  676.000000  676.000000  \n",
            "mean     4.002071   17.965007  107.399684  \n",
            "std      0.233292    5.533256   76.974657  \n",
            "min      3.500000    7.670000   19.850000  \n",
            "25%      3.900000   15.042727   55.668750  \n",
            "50%      4.000000   16.517110   89.900000  \n",
            "75%      4.100000   19.447778  129.990000  \n",
            "max      4.400000   57.230000  364.000000  \n",
            "\n",
            "[8 rows x 27 columns]\n"
          ]
        }
      ]
    },
    {
      "cell_type": "markdown",
      "source": [
        "**3 -** Check for missing values:\n",
        " * Identify if any columns have missing data to handle during the pre-processing phase:"
      ],
      "metadata": {
        "id": "xUPxFSkWWZRX"
      }
    },
    {
      "cell_type": "code",
      "source": [
        "print(data.isnull().sum())"
      ],
      "metadata": {
        "colab": {
          "base_uri": "https://localhost:8080/"
        },
        "id": "7gX66EbPWOoT",
        "outputId": "0261d87f-646c-4519-8e85-28a9b79d8dba"
      },
      "execution_count": null,
      "outputs": [
        {
          "output_type": "stream",
          "name": "stdout",
          "text": [
            "product_id                    0\n",
            "product_category_name         0\n",
            "month_year                    0\n",
            "qty                           0\n",
            "total_price                   0\n",
            "freight_price                 0\n",
            "unit_price                    0\n",
            "product_name_lenght           0\n",
            "product_description_lenght    0\n",
            "product_photos_qty            0\n",
            "product_weight_g              0\n",
            "product_score                 0\n",
            "customers                     0\n",
            "weekday                       0\n",
            "weekend                       0\n",
            "holiday                       0\n",
            "month                         0\n",
            "year                          0\n",
            "s                             0\n",
            "volume                        0\n",
            "comp_1                        0\n",
            "ps1                           0\n",
            "fp1                           0\n",
            "comp_2                        0\n",
            "ps2                           0\n",
            "fp2                           0\n",
            "comp_3                        0\n",
            "ps3                           0\n",
            "fp3                           0\n",
            "lag_price                     0\n",
            "dtype: int64\n"
          ]
        }
      ]
    },
    {
      "cell_type": "markdown",
      "source": [
        "**4 -** Understand Target Variable:\n",
        "\n",
        "\n",
        "*   Giving that the task is about price optimation we would want to optimize the\n",
        "total price variable:"
      ],
      "metadata": {
        "id": "wdoQx5YeXdvo"
      }
    },
    {
      "cell_type": "code",
      "source": [
        "import matplotlib.pyplot as plt\n",
        "\n",
        "# Visulize distritbution of total price\n",
        "\n",
        "plt.hist(data['total_price'], bins=50)\n",
        "plt.xlabel('Total Price')\n",
        "plt.ylabel('Frequency')\n",
        "plt.title('Distritbution of Total Price')\n",
        "plt.show()"
      ],
      "metadata": {
        "colab": {
          "base_uri": "https://localhost:8080/",
          "height": 472
        },
        "id": "vwLtQpBfXCBD",
        "outputId": "749e5e8f-e8eb-4029-d353-c85955c61ebf"
      },
      "execution_count": null,
      "outputs": [
        {
          "output_type": "display_data",
          "data": {
            "text/plain": [
              "<Figure size 640x480 with 1 Axes>"
            ],
            "image/png": "[encoded data removed]"
          },
          "metadata": {}
        }
      ]
    },
    {
      "cell_type": "markdown",
      "source": [
        "**5 -** Explore Relationships Between Variables:\n",
        "\n",
        "\n",
        "*   Explore how different variables relate to each other:\n",
        "\n"
      ],
      "metadata": {
        "id": "g55fD5WWZjJT"
      }
    },
    {
      "cell_type": "code",
      "source": [
        "# Group by prodcut category and calculate the avg total price\n",
        "\n",
        "category_price_avg = data.groupby('product_category_name')['total_price'].mean()\n",
        "print(category_price_avg)\n"
      ],
      "metadata": {
        "colab": {
          "base_uri": "https://localhost:8080/"
        },
        "id": "Sl9YjlEGYwGD",
        "outputId": "0d6a09dc-1b8e-4e05-a0be-1d3ea3c477b1"
      },
      "execution_count": null,
      "outputs": [
        {
          "output_type": "stream",
          "name": "stdout",
          "text": [
            "product_category_name\n",
            "bed_bath_table           1558.762623\n",
            "computers_accessories    2059.390580\n",
            "consoles_games            263.668182\n",
            "cool_stuff               1016.777193\n",
            "furniture_decor          1185.940833\n",
            "garden_tools             1022.390875\n",
            "health_beauty            1633.917231\n",
            "perfumery                 781.250769\n",
            "watches_gifts            2015.360874\n",
            "Name: total_price, dtype: float64\n"
          ]
        }
      ]
    },
    {
      "cell_type": "markdown",
      "source": [
        "\n",
        "\n",
        "*   Total price accross months and years to identify seasonality and trends in sales:\n",
        "\n"
      ],
      "metadata": {
        "id": "qvhqSFxYauPL"
      }
    },
    {
      "cell_type": "code",
      "source": [
        "# Avg total price per month\n",
        "\n",
        "plt.figure(figsize=(10,6))\n",
        "data.groupby('month')['total_price'].mean().plot(kind='bar')\n",
        "plt.title('Average Total Price per Month')\n",
        "plt.xlabel('Month')\n",
        "plt.ylabel('Average Total Price')\n",
        "plt.show\n",
        "\n",
        "\n",
        "print(\"\\n\\n\")\n",
        "# Avg total price per year\n",
        "\n",
        "plt.figure(figsize=(10,6))\n",
        "data.groupby('year')['total_price'].mean().plot(kind='bar')\n",
        "plt.title('Average Total Price per Year')\n",
        "plt.xlabel('Year')\n",
        "plt.ylabel('Average Total Price')\n",
        "plt.show()"
      ],
      "metadata": {
        "colab": {
          "base_uri": "https://localhost:8080/",
          "height": 1000
        },
        "id": "m70f0MgfaP56",
        "outputId": "e28ecb88-19b0-4ee0-f9d6-a05777f1bfc4"
      },
      "execution_count": null,
      "outputs": [
        {
          "output_type": "stream",
          "name": "stdout",
          "text": [
            "\n",
            "\n",
            "\n"
          ]
        },
        {
          "output_type": "display_data",
          "data": {
            "text/plain": [
              "<Figure size 1000x600 with 1 Axes>"
            ],
            "image/png": "[encoded data removed]"
          },
          "metadata": {}
        },
        {
          "output_type": "display_data",
          "data": {
            "text/plain": [
              "<Figure size 1000x600 with 1 Axes>"
            ],
            "image/png": "[encoded data removed]"
          },
          "metadata": {}
        }
      ]
    },
    {
      "cell_type": "markdown",
      "source": [
        "\n",
        "\n",
        "*   Total price on weekends , weekdays and holidays can provide insights into customer purchasing behavior.\n",
        "\n"
      ],
      "metadata": {
        "id": "lBxLrg1xeASo"
      }
    },
    {
      "cell_type": "code",
      "source": [
        "weekend_avg = data.groupby('weekend')['total_price'].mean()\n",
        "print(weekend_avg)\n",
        "\n",
        "# visualize differences\n",
        "\n",
        "plt.figure(figsize=(8,5))\n",
        "weekend_avg.plot(kind='bar')\n",
        "plt.title('Average Total Price on Weekend vs Weekdays')\n",
        "plt.xlabel('Weekend (0 = No , 1 = Yes)')\n",
        "plt.ylabel('Average Total Price')\n",
        "plt.show\n",
        "\n",
        "# Avg total price on holidays\n",
        "\n",
        "holiday_avg = data.groupby('holiday')['total_price'].mean()\n",
        "print(holiday_avg)\n",
        "\n",
        "# Visualize holiday effect\n",
        "\n",
        "plt.figure(figsize=(8,5))\n",
        "holiday_avg.plot(kind='bar')\n",
        "plt.title('Average Total Price on Holidays')\n",
        "plt.xlabel('Holiday (0 = No , 1 = Yes)')\n",
        "plt.ylabel('Average Total Price')\n",
        "plt.show"
      ],
      "metadata": {
        "colab": {
          "base_uri": "https://localhost:8080/",
          "height": 1000
        },
        "id": "okQu-Ahzcgqp",
        "outputId": "6409227f-9c8e-4c09-9cd6-0eca956ffdb0"
      },
      "execution_count": null,
      "outputs": [
        {
          "output_type": "stream",
          "name": "stdout",
          "text": [
            "weekend\n",
            "8     1517.293932\n",
            "9     1355.476207\n",
            "10    1281.368152\n",
            "Name: total_price, dtype: float64\n",
            "holiday\n",
            "0    1200.927143\n",
            "1    1304.547280\n",
            "2    1399.534634\n",
            "3    2280.586500\n",
            "4    1977.494773\n",
            "Name: total_price, dtype: float64\n"
          ]
        },
        {
          "output_type": "execute_result",
          "data": {
            "text/plain": [
              "<function matplotlib.pyplot.show(close=None, block=None)>"
            ],
            "text/html": [
              "<div style=\"max-width:800px; border: 1px solid var(--colab-border-color);\"><style>\n",
              "      pre.function-repr-contents {\n",
              "        overflow-x: auto;\n",
              "        padding: 8px 12px;\n",
              "        max-height: 500px;\n",
              "      }\n",
              "\n",
              "      pre.function-repr-contents.function-repr-contents-collapsed {\n",
              "        cursor: pointer;\n",
              "        max-height: 100px;\n",
              "      }\n",
              "    </style>\n",
              "    <pre style=\"white-space: initial; background:\n",
              "         var(--colab-secondary-surface-color); padding: 8px 12px;\n",
              "         border-bottom: 1px solid var(--colab-border-color);\"><b>matplotlib.pyplot.show</b><br/>def show(*args, **kwargs)</pre><pre class=\"function-repr-contents function-repr-contents-collapsed\" style=\"\"><a class=\"filepath\" style=\"display:none\" href=\"#\">/usr/local/lib/python3.10/dist-packages/matplotlib/pyplot.py</a>Display all open figures.\n",
              "\n",
              "Parameters\n",
              "----------\n",
              "block : bool, optional\n",
              "    Whether to wait for all figures to be closed before returning.\n",
              "\n",
              "    If `True` block and run the GUI main loop until all figure windows\n",
              "    are closed.\n",
              "\n",
              "    If `False` ensure that all figure windows are displayed and return\n",
              "    immediately.  In this case, you are responsible for ensuring\n",
              "    that the event loop is running to have responsive figures.\n",
              "\n",
              "    Defaults to True in non-interactive mode and to False in interactive\n",
              "    mode (see `.pyplot.isinteractive`).\n",
              "\n",
              "See Also\n",
              "--------\n",
              "ion : Enable interactive mode, which shows / updates the figure after\n",
              "      every plotting command, so that calling ``show()`` is not necessary.\n",
              "ioff : Disable interactive mode.\n",
              "savefig : Save the figure to an image file instead of showing it on screen.\n",
              "\n",
              "Notes\n",
              "-----\n",
              "**Saving figures to file and showing a window at the same time**\n",
              "\n",
              "If you want an image file as well as a user interface window, use\n",
              "`.pyplot.savefig` before `.pyplot.show`. At the end of (a blocking)\n",
              "``show()`` the figure is closed and thus unregistered from pyplot. Calling\n",
              "`.pyplot.savefig` afterwards would save a new and thus empty figure. This\n",
              "limitation of command order does not apply if the show is non-blocking or\n",
              "if you keep a reference to the figure and use `.Figure.savefig`.\n",
              "\n",
              "**Auto-show in jupyter notebooks**\n",
              "\n",
              "The jupyter backends (activated via ``%matplotlib inline``,\n",
              "``%matplotlib notebook``, or ``%matplotlib widget``), call ``show()`` at\n",
              "the end of every cell by default. Thus, you usually don&#x27;t have to call it\n",
              "explicitly there.</pre>\n",
              "      <script>\n",
              "      if (google.colab.kernel.accessAllowed && google.colab.files && google.colab.files.view) {\n",
              "        for (const element of document.querySelectorAll('.filepath')) {\n",
              "          element.style.display = 'block'\n",
              "          element.onclick = (event) => {\n",
              "            event.preventDefault();\n",
              "            event.stopPropagation();\n",
              "            google.colab.files.view(element.textContent, 401);\n",
              "          };\n",
              "        }\n",
              "      }\n",
              "      for (const element of document.querySelectorAll('.function-repr-contents')) {\n",
              "        element.onclick = (event) => {\n",
              "          event.preventDefault();\n",
              "          event.stopPropagation();\n",
              "          element.classList.toggle('function-repr-contents-collapsed');\n",
              "        };\n",
              "      }\n",
              "      </script>\n",
              "      </div>"
            ]
          },
          "metadata": {},
          "execution_count": 35
        },
        {
          "output_type": "display_data",
          "data": {
            "text/plain": [
              "<Figure size 800x500 with 1 Axes>"
            ],
            "image/png": "[encoded data removed]"
          },
          "metadata": {}
        },
        {
          "output_type": "display_data",
          "data": {
            "text/plain": [
              "<Figure size 800x500 with 1 Axes>"
            ],
            "image/png": "[encoded data removed]"
          },
          "metadata": {}
        }
      ]
    },
    {
      "cell_type": "markdown",
      "source": [
        "# DATA PREPROCESSING\n",
        "\n",
        "\n",
        "Data Cleaning:\n",
        "\n",
        "\n",
        "\n",
        "*   Handle non-numeric values : Ensure that columns are correctly formated to numeric values only.\n",
        "*   Outlier treatment : Cap outliers remove or transform them.\n",
        "*   Duplicate Records : Remove duplicate records to avoid redundancy.\n",
        "\n",
        "\n",
        "**Data Quality :**\n",
        "\n",
        "The dataset has no missing values and all necessary columns are in the appropriate format for modelling."
      ],
      "metadata": {
        "id": "EjGBaJwUicP6"
      }
    },
    {
      "cell_type": "code",
      "source": [
        "# handle non-numeric values\n",
        "\n",
        "\n",
        "### NO COLUMN HAS NUMERIC VALUES , CODE BELOW IS USED IN CASE THERE WAS ONE , THAT'S WHY I COMMENTED IT OUT\n",
        "\n",
        "### data['SOME_numeric_column'] = pd.to_numeric(data[some_numeric_column], errors='coerce')\n",
        "\n",
        "\n",
        "# outlier treatment\n",
        "\n",
        "Q1 = data['unit_price'].quantile(0.25)\n",
        "Q3 = data['unit_price'].quantile(0.75)\n",
        "IQR= Q3 - Q1\n",
        "\n",
        "# define the bounds for detecting outliers\n",
        "\n",
        "lower_bound = Q1 - 1.5 * IQR\n",
        "upper_bound = Q3 + 1.5 * IQR\n",
        "\n",
        "\n",
        "# Filter the outliers using .loc[]\n",
        "data = data.loc[(data['unit_price'] >= lower_bound) & (data['unit_price'] <= upper_bound)]\n",
        "\n",
        "\n",
        "# Remove duplicate rows (no need to change this part)\n",
        "data.drop_duplicates(inplace=True)"
      ],
      "metadata": {
        "colab": {
          "base_uri": "https://localhost:8080/"
        },
        "id": "0UiScambipEO",
        "outputId": "0d36db7a-59a9-469d-810a-be3d482a3936"
      },
      "execution_count": null,
      "outputs": [
        {
          "output_type": "stream",
          "name": "stderr",
          "text": [
            "<ipython-input-36-27ec8a6070d8>:26: SettingWithCopyWarning: \n",
            "A value is trying to be set on a copy of a slice from a DataFrame\n",
            "\n",
            "See the caveats in the documentation: https://pandas.pydata.org/pandas-docs/stable/user_guide/indexing.html#returning-a-view-versus-a-copy\n",
            "  data.drop_duplicates(inplace=True)\n"
          ]
        }
      ]
    },
    {
      "cell_type": "code",
      "source": [
        "#checking if THERE ARE numeric columns\n",
        "\n",
        "print(data.dtypes)"
      ],
      "metadata": {
        "colab": {
          "base_uri": "https://localhost:8080/"
        },
        "id": "wEyeynDEmQON",
        "outputId": "e06db6d3-b61d-47e3-b5c6-b6afd63450d6"
      },
      "execution_count": null,
      "outputs": [
        {
          "output_type": "stream",
          "name": "stdout",
          "text": [
            "product_id                     object\n",
            "product_category_name          object\n",
            "month_year                     object\n",
            "qty                             int64\n",
            "total_price                   float64\n",
            "freight_price                 float64\n",
            "unit_price                    float64\n",
            "product_name_lenght             int64\n",
            "product_description_lenght      int64\n",
            "product_photos_qty              int64\n",
            "product_weight_g                int64\n",
            "product_score                 float64\n",
            "customers                       int64\n",
            "weekday                         int64\n",
            "weekend                         int64\n",
            "holiday                         int64\n",
            "month                           int64\n",
            "year                            int64\n",
            "s                             float64\n",
            "volume                          int64\n",
            "comp_1                        float64\n",
            "ps1                           float64\n",
            "fp1                           float64\n",
            "comp_2                        float64\n",
            "ps2                           float64\n",
            "fp2                           float64\n",
            "comp_3                        float64\n",
            "ps3                           float64\n",
            "fp3                           float64\n",
            "lag_price                     float64\n",
            "dtype: object\n"
          ]
        }
      ]
    },
    {
      "cell_type": "code",
      "source": [
        "# Use .loc[] to filter and modify the original DataFrame without warnings\n",
        "Q1 = data['unit_price'].quantile(0.25)\n",
        "Q3 = data['unit_price'].quantile(0.75)\n",
        "IQR = Q3 - Q1\n",
        "\n",
        "# Define the bounds for detecting outliers\n",
        "lower_bound = Q1 - 1.5 * IQR\n",
        "upper_bound = Q3 + 1.5 * IQR\n",
        "\n",
        "# Filter the outliers using .loc[]\n",
        "data = data.loc[(data['unit_price'] >= lower_bound) & (data['unit_price'] <= upper_bound)]\n",
        "\n",
        "# Remove duplicate rows (no need to change this part)\n",
        "data.drop_duplicates(inplace=True)"
      ],
      "metadata": {
        "id": "V8VM062OrTa6"
      },
      "execution_count": null,
      "outputs": []
    },
    {
      "cell_type": "markdown",
      "source": [
        "# **Encoding Categorial Variables**\n",
        "\n",
        "We will use one-hot encodng for the 'product category name' columns to convert it into binary , this is important since MLM (typically) cannot work with categorial data in its original form."
      ],
      "metadata": {
        "id": "omBU-y1ItUSZ"
      }
    },
    {
      "cell_type": "code",
      "source": [
        "# one-hot encode 'product_category_name'\n",
        "\n",
        "data = pd.get_dummies(data, columns = ['product_category_name'], drop_first = True)\n",
        "\n",
        "# check data structure after encoding\n",
        "\n",
        "print(data.head())"
      ],
      "metadata": {
        "colab": {
          "base_uri": "https://localhost:8080/"
        },
        "id": "zd8--_xItaSI",
        "outputId": "8bab0d81-89ee-4b78-8ce9-db413055f769"
      },
      "execution_count": null,
      "outputs": [
        {
          "output_type": "stream",
          "name": "stdout",
          "text": [
            "  product_id  month_year  qty  total_price  freight_price  unit_price  \\\n",
            "0       bed1  01-05-2017    1        45.95      15.100000       45.95   \n",
            "1       bed1  01-06-2017    3       137.85      12.933333       45.95   \n",
            "2       bed1  01-07-2017    6       275.70      14.840000       45.95   \n",
            "3       bed1  01-08-2017    4       183.80      14.287500       45.95   \n",
            "4       bed1  01-09-2017    2        91.90      15.100000       45.95   \n",
            "\n",
            "   product_name_lenght  product_description_lenght  product_photos_qty  \\\n",
            "0                   39                         161                   2   \n",
            "1                   39                         161                   2   \n",
            "2                   39                         161                   2   \n",
            "3                   39                         161                   2   \n",
            "4                   39                         161                   2   \n",
            "\n",
            "   product_weight_g  ...        fp3  lag_price  \\\n",
            "0               350  ...  15.100000      45.90   \n",
            "1               350  ...  12.933333      45.95   \n",
            "2               350  ...  14.840000      45.95   \n",
            "3               350  ...  14.287500      45.95   \n",
            "4               350  ...  15.100000      45.95   \n",
            "\n",
            "   product_category_name_computers_accessories  \\\n",
            "0                                        False   \n",
            "1                                        False   \n",
            "2                                        False   \n",
            "3                                        False   \n",
            "4                                        False   \n",
            "\n",
            "   product_category_name_consoles_games  product_category_name_cool_stuff  \\\n",
            "0                                 False                             False   \n",
            "1                                 False                             False   \n",
            "2                                 False                             False   \n",
            "3                                 False                             False   \n",
            "4                                 False                             False   \n",
            "\n",
            "   product_category_name_furniture_decor  product_category_name_garden_tools  \\\n",
            "0                                  False                               False   \n",
            "1                                  False                               False   \n",
            "2                                  False                               False   \n",
            "3                                  False                               False   \n",
            "4                                  False                               False   \n",
            "\n",
            "   product_category_name_health_beauty  product_category_name_perfumery  \\\n",
            "0                                False                            False   \n",
            "1                                False                            False   \n",
            "2                                False                            False   \n",
            "3                                False                            False   \n",
            "4                                False                            False   \n",
            "\n",
            "   product_category_name_watches_gifts  \n",
            "0                                False  \n",
            "1                                False  \n",
            "2                                False  \n",
            "3                                False  \n",
            "4                                False  \n",
            "\n",
            "[5 rows x 37 columns]\n"
          ]
        }
      ]
    },
    {
      "cell_type": "code",
      "source": [
        "# convert boolean columns to integers\n",
        "\n",
        "encoded_columns = [col for col in data.columns if col.startswith('product_category_name')]\n",
        "data[encoded_columns] = data[encoded_columns].astype(int)\n",
        "\n",
        "# check first rows\n",
        "print(data[encoded_columns].head())\n"
      ],
      "metadata": {
        "colab": {
          "base_uri": "https://localhost:8080/"
        },
        "id": "4wU1A2MTw7ZY",
        "outputId": "a20d335b-d432-48c6-bd14-a5447482ea42"
      },
      "execution_count": null,
      "outputs": [
        {
          "output_type": "stream",
          "name": "stdout",
          "text": [
            "   product_category_name_computers_accessories  \\\n",
            "0                                            0   \n",
            "1                                            0   \n",
            "2                                            0   \n",
            "3                                            0   \n",
            "4                                            0   \n",
            "\n",
            "   product_category_name_consoles_games  product_category_name_cool_stuff  \\\n",
            "0                                     0                                 0   \n",
            "1                                     0                                 0   \n",
            "2                                     0                                 0   \n",
            "3                                     0                                 0   \n",
            "4                                     0                                 0   \n",
            "\n",
            "   product_category_name_furniture_decor  product_category_name_garden_tools  \\\n",
            "0                                      0                                   0   \n",
            "1                                      0                                   0   \n",
            "2                                      0                                   0   \n",
            "3                                      0                                   0   \n",
            "4                                      0                                   0   \n",
            "\n",
            "   product_category_name_health_beauty  product_category_name_perfumery  \\\n",
            "0                                    0                                0   \n",
            "1                                    0                                0   \n",
            "2                                    0                                0   \n",
            "3                                    0                                0   \n",
            "4                                    0                                0   \n",
            "\n",
            "   product_category_name_watches_gifts  \n",
            "0                                    0  \n",
            "1                                    0  \n",
            "2                                    0  \n",
            "3                                    0  \n",
            "4                                    0  \n"
          ]
        }
      ]
    },
    {
      "cell_type": "markdown",
      "source": [
        "# **Scaling Numerical Features**\n",
        "\n",
        "Now , we will scale all the numerical columns to ensure all features are on the same scale for training MLM."
      ],
      "metadata": {
        "id": "8tgcmHQUxqHQ"
      }
    },
    {
      "cell_type": "code",
      "source": [
        "from sklearn.preprocessing import StandardScaler\n",
        "\n",
        "# list of numerical columns to scale\n",
        "\n",
        "numerical_features = ['qty', 'freight_price', 'unit_price', 'product_name_lenght',\n",
        "                      'product_description_lenght', 'product_photos_qty',\n",
        "                      'product_weight_g', 'product_score', 'customers', 'weekday',\n",
        "                      'weekend', 'holiday', 'month', 'year', 's', 'volume',\n",
        "                      'comp_1', 'ps1', 'fp1', 'comp_2', 'ps2', 'fp2', 'comp_3',\n",
        "                      'ps3', 'fp3', 'lag_price']\n",
        "\n",
        "# intialize scaler\n",
        "\n",
        "scaler = StandardScaler()\n",
        "\n",
        "data[numerical_features] = scaler.fit_transform(data[numerical_features])\n",
        "\n",
        "# check first few rows\n",
        "\n",
        "print(data[numerical_features].head())"
      ],
      "metadata": {
        "colab": {
          "base_uri": "https://localhost:8080/"
        },
        "id": "sMhifWu5xd95",
        "outputId": "447b3421-82a3-4a40-bfd4-47e96f10baac"
      },
      "execution_count": null,
      "outputs": [
        {
          "output_type": "stream",
          "name": "stdout",
          "text": [
            "        qty  freight_price  unit_price  product_name_lenght  \\\n",
            "0 -0.879265      -0.537408   -0.960602            -1.008517   \n",
            "1 -0.753453      -0.746686   -0.960602            -1.008517   \n",
            "2 -0.564734      -0.562521   -0.960602            -1.008517   \n",
            "3 -0.690546      -0.615887   -0.960602            -1.008517   \n",
            "4 -0.816359      -0.537408   -0.960602            -1.008517   \n",
            "\n",
            "   product_description_lenght  product_photos_qty  product_weight_g  \\\n",
            "0                   -0.937976            0.063966         -0.683337   \n",
            "1                   -0.937976            0.063966         -0.683337   \n",
            "2                   -0.937976            0.063966         -0.683337   \n",
            "3                   -0.937976            0.063966         -0.683337   \n",
            "4                   -0.937976            0.063966         -0.683337   \n",
            "\n",
            "   product_score  customers   weekday  ...    comp_1       ps1       fp1  \\\n",
            "0      -0.360985  -0.369905  1.250394  ...  0.298547 -2.130712 -0.411802   \n",
            "1      -0.360985  -0.306377  0.234654  ...  0.298547 -2.130712 -0.437008   \n",
            "2      -0.360985   0.678309 -0.781086  ...  0.298547 -2.130712 -0.517542   \n",
            "3      -0.360985   0.154202  1.250394  ...  0.298547 -2.130712 -0.448688   \n",
            "4      -0.360985  -0.417551 -0.781086  ...  0.298547 -2.130712 -0.020790   \n",
            "\n",
            "     comp_2       ps2       fp2    comp_3      ps3       fp3  lag_price  \n",
            "0  3.032413  1.292973 -1.537086 -0.799884 -0.06287 -0.528439  -0.945703  \n",
            "1  2.888581  1.292973  0.374512 -0.799884 -0.06287 -0.911152  -0.944597  \n",
            "2  2.792693  1.292973  0.507501 -0.799884 -0.06287 -0.574365  -0.944597  \n",
            "3  2.661082  1.292973  0.083996 -0.799884 -0.06287 -0.671956  -0.944597  \n",
            "4  1.795426  1.292973  0.831440 -0.799884 -0.06287 -0.528439  -0.944597  \n",
            "\n",
            "[5 rows x 26 columns]\n"
          ]
        }
      ]
    },
    {
      "cell_type": "markdown",
      "source": [
        "## **. Data Exploration and Preprocessing**\n",
        "\n",
        "\n",
        "- **Dataset Overview**: The dataset contains key features related to sales , including product prices , quantities sold , shipping costs and competitor prices.\n",
        "It also includes features like month,year and whether the sale occured on a weekend or a weekday.\n",
        "\n",
        "- **Handling Outliers**: Outliers in the `unit_price` were hanled using the interquartile range (IQR) method to reduce their impact on the model.\n",
        "- **Encoding Categorical Variables**: The categorical variable `product_category_name` was one-hot encoded to ensure that the model can process it correctly.\n",
        "- **Scaling Numerical Features**: All numerical features (e.g., `qty`, `unit_price`, `freight_price`) were scaled using StandardScaler to standardize the data for model training.\n"
      ],
      "metadata": {
        "id": "gXBH39BqvdUG"
      }
    },
    {
      "cell_type": "markdown",
      "source": [
        "# **Splitting the Data**\n",
        "\n",
        "we'll split the dataset into training and testing sets. This will allow us to train the model on the training set and evaluate its performance on the testing set."
      ],
      "metadata": {
        "id": "HKDxQ1Yc5TFX"
      }
    },
    {
      "cell_type": "code",
      "source": [
        "from sklearn.model_selection import train_test_split\n",
        "\n",
        "# define features X and target Y\n",
        "\n",
        "X = data.drop('total_price' , axis = 1) # all columns except 'total_price'\n",
        "y = data['total_price'] # terget variable\n",
        "\n",
        "# split the data where 80% is for training and 20% for testing\n",
        "\n",
        "X_train , X_test , y_train , y_test = train_test_split(X , y, test_size = 0.2 , random_state =42)\n",
        "\n",
        "# check the shape of the dataset to ensure splitting was done successfuly\n",
        "\n",
        "print(\"Training set : \", X_train.shape , y_train.shape)\n",
        "print(\"Testing set : \", X_test.shape, y_test.shape)\n"
      ],
      "metadata": {
        "colab": {
          "base_uri": "https://localhost:8080/"
        },
        "id": "Wk2r6rhoywDh",
        "outputId": "f08b3e42-a81f-4b42-ef00-b6666f6dbfc0"
      },
      "execution_count": null,
      "outputs": [
        {
          "output_type": "stream",
          "name": "stdout",
          "text": [
            "Training set :  (495, 36) (495,)\n",
            "Testing set :  (124, 36) (124,)\n"
          ]
        }
      ]
    },
    {
      "cell_type": "markdown",
      "source": [
        "# **Model Training**\n",
        "\n",
        "- We will train a **Linear Regression Model** , **Gradient Boosting Model** and a **Random Forest Regressor** Model and evaluate their performance using mean absolute error and mean squared error :\n",
        "\n",
        "1.   **Linear Regression**: A simple model that assumes a linear relationship between features.\n",
        "\n",
        "2.   **Random Forest**: A model that builds multiple decision trees and averages their predictions.\n",
        "\n",
        "3.   **Gradient Boosting**: A boosting algorithm that builds multiple decision trees sequentially , with each tree corrects the errors of the previous one.\n",
        "\n",
        "### **Model Results:**\n",
        "Each model was evaluated using **Mean Absolute Error (MAE)** and **Mean Squared Error (MSE)** to assess prediction accuracy.\n",
        "\n"
      ],
      "metadata": {
        "id": "mQUekGC2HVQu"
      }
    },
    {
      "source": [
        "# Linear Regression Model\n",
        "\n",
        "from sklearn.linear_model import LinearRegression\n",
        "from sklearn.metrics import mean_absolute_error , mean_squared_error\n",
        "\n",
        "# initialize linear regression model\n",
        "\n",
        "model = LinearRegression()\n",
        "\n",
        "# train the model on the training data\n",
        "# drop 'product_id' and 'month_year' columns from X_train before fitting\n",
        "\n",
        "model.fit(X_train.drop(['product_id', 'month_year'], axis=1),y_train)\n",
        "\n",
        "# Make predictions on the test set\n",
        "# drop 'product_id' and 'month_year' columns from X_test before predicting\n",
        "\n",
        "y_pred = model.predict(X_test.drop(['product_id', 'month_year'], axis=1))\n",
        "\n",
        "# evaluate the model\n",
        "\n",
        "mae = mean_absolute_error(y_test , y_pred)\n",
        "mse = mean_squared_error(y_test , y_pred)\n",
        "print(f'Mean Absolute Error (MAE) : {mae}')\n",
        "print(f'Mean Squared Error (MSE) : {mse}')"
      ],
      "cell_type": "code",
      "metadata": {
        "colab": {
          "base_uri": "https://localhost:8080/"
        },
        "id": "E489BeqcJtMT",
        "outputId": "b84a8769-98b6-4d32-9e38-9908408cd9e1"
      },
      "execution_count": null,
      "outputs": [
        {
          "output_type": "stream",
          "name": "stdout",
          "text": [
            "Mean Absolute Error (MAE) : 414.9320875175971\n",
            "Mean Squared Error (MSE) : 347039.1892113554\n"
          ]
        }
      ]
    },
    {
      "cell_type": "code",
      "source": [
        "# Random Forest Regressor Model\n",
        "\n",
        "from sklearn.ensemble import RandomForestRegressor\n",
        "from sklearn.metrics import mean_absolute_error, mean_squared_error\n",
        "\n",
        "# Initialize and train the Random Forest model\n",
        "rf_model = RandomForestRegressor(n_estimators=100, random_state=42)\n",
        "rf_model.fit(X_train, y_train)\n",
        "\n",
        "# Predict and evaluate\n",
        "rf_pred = rf_model.predict(X_test)\n",
        "rf_mae = mean_absolute_error(y_test, rf_pred)\n",
        "rf_mse = mean_squared_error(y_test, rf_pred)\n",
        "print(f'Random Forest MAE: {rf_mae}')\n",
        "print(f'Random Forest MSE: {rf_mse}')\n"
      ],
      "metadata": {
        "colab": {
          "base_uri": "https://localhost:8080/"
        },
        "id": "xZE2uDhENsbs",
        "outputId": "fe326128-9c46-4842-baa5-8ad6f3a9eee3"
      },
      "execution_count": null,
      "outputs": [
        {
          "output_type": "stream",
          "name": "stdout",
          "text": [
            "Random Forest MAE: 154.05914919354854\n",
            "Random Forest MSE: 343686.62750759174\n"
          ]
        }
      ]
    },
    {
      "source": [
        "from sklearn.ensemble import GradientBoostingRegressor\n",
        "\n",
        "# Initialize and train the Gradient Boosting model\n",
        "gb_model = GradientBoostingRegressor(random_state=42)\n",
        "gb_model.fit(X_train, y_train)\n",
        "\n",
        "# Predict and evaluate\n",
        "gb_pred = gb_model.predict(X_test)\n",
        "gb_mae = mean_absolute_error(y_test, gb_pred)\n",
        "gb_mse = mean_squared_error(y_test, gb_pred)\n",
        "print(f'Gradient Boosting MAE: {gb_mae}')\n",
        "print(f'Gradient Boosting MSE: {gb_mse}')\n"
      ],
      "cell_type": "code",
      "metadata": {
        "colab": {
          "base_uri": "https://localhost:8080/"
        },
        "id": "JuzRCTJBtOjF",
        "outputId": "d57fcd1b-f15e-4302-84f1-fe844a916816"
      },
      "execution_count": null,
      "outputs": [
        {
          "output_type": "stream",
          "name": "stdout",
          "text": [
            "Gradient Boosting MAE: 141.78532944506674\n",
            "Gradient Boosting MSE: 246109.95358308384\n"
          ]
        }
      ]
    },
    {
      "cell_type": "markdown",
      "source": [
        "# **Insights** :\n",
        "\n",
        "**Gradient Boosting** appears to be the most effective model for predicting the total price in this case , compared to Linear Regression and Random Forest:\n",
        "\n",
        "\n",
        "  - MAE: 141.79\n",
        "  - MSE: 246,109.95\n",
        "\n",
        "**Random Forest** has a high variance in prediction errors:\n",
        "\n",
        "\n",
        "  - MAE: 154.06\n",
        "  - MSE: 343,686.63\n",
        "\n",
        "**Linear regression** simple model but not effective for this task:\n",
        "\n",
        "- MAE: 414.93\n",
        "- MSE: 347,039.19\n",
        "\n",
        "\n",
        "\n",
        "**Conclusion**: Based on these metrics, the Gradient Boosting model performed the best, with the lowest MAE and MSE.\n"
      ],
      "metadata": {
        "id": "UZDicS6wN-L9"
      }
    },
    {
      "cell_type": "markdown",
      "source": [
        "# **Feature Importance Analysis**\n",
        "\n",
        "The Gradient Boosting model provided insights into the most important features driving price predictions. The key features identified were:\n",
        "\n",
        "**-** qty (Quantity Sold): The most important feature , as the number of products sold directly influences the total price .\n",
        "\n",
        "**-** unit_price (Unit Price): The price per unit is another significant driver of the total price.\n",
        "\n",
        "**-** comp3 and comp2 (Competitor Prices): Competitor prices significantly affect the total price, indicating the need for competitive pricing strategies.\n",
        "\n",
        "**-** freight_price (Shipping Cost): Shipping costs contribute notably to the total pric , underscoring the importance of optimizing logistics.\n",
        "\n",
        "**-** weekend: Weekend sales also had an impact,suggesting potentioal demand fluctuations or the effect of promotions\n",
        ".\n",
        "\n",
        "- The following graph shows the top 10 most important features identified by the Gradient Boosting model:"
      ],
      "metadata": {
        "id": "4ua6bddW-2F6"
      }
    },
    {
      "cell_type": "code",
      "source": [
        "# Get feature importance from the Gradient Boosting Model\n",
        "\n",
        "\n",
        "\n",
        "# Visualize top features\n",
        "best_gb_model = gb_model\n",
        "\n",
        "feature_importance = best_gb_model.feature_importances_\n",
        "\n",
        "import matplotlib.pyplot as plt\n",
        "import numpy as np\n",
        "\n",
        "\n",
        "indices = np.argsort(feature_importance)[::-1]\n",
        "top_features = 10 # Display top 10\n",
        "plt.figure(figsize=(10,6))\n",
        "plt.title(\"Features Importance - Top Features (Gradient Boosting)\")\n",
        "plt.bar(range(top_features), feature_importance[indices][:top_features], align= \"center\" )\n",
        "plt.xticks(range(top_features), X_train.columns[indices][:top_features], rotation=90)\n",
        "plt.show()"
      ],
      "metadata": {
        "colab": {
          "base_uri": "https://localhost:8080/",
          "height": 618
        },
        "id": "cLTOhnWU-1Ty",
        "outputId": "a710ccb6-c004-4a8e-8125-72dfb4c2f656"
      },
      "execution_count": null,
      "outputs": [
        {
          "output_type": "display_data",
          "data": {
            "text/plain": [
              "<Figure size 1000x600 with 1 Axes>"
            ],
            "image/png": "[encoded data removed]"
          },
          "metadata": {}
        }
      ]
    },
    {
      "cell_type": "markdown",
      "source": [
        "# **Insights:**\n",
        "\n",
        "The Gradient Boosting model provided insights into the most important features driving price predictions. The key features identified were:\n",
        "\n",
        "**-** qty (Quantity Sold): The most important feature , as the number of products sold directly influences the total price .\n",
        "\n",
        "**-** unit_price (Unit Price): The price per unit is another significant driver of the total price.\n",
        "\n",
        "**-** comp3 and comp2 (Competitor Prices): Competitor prices significantly affect the total price, indicating the need for competitive pricing strategies.\n",
        "\n",
        "**-** freight_price (Shipping Cost): Shipping costs contribute notably to the total pric , underscoring the importance of optimizing logistics.\n",
        "\n",
        "**-** weekend: Weekend sales also had an impact,suggesting potentioal demand fluctuations or the effect of promotions\n",
        ".\n",
        "\n",
        "- The graph above shows the top 10 most important features identified by the Gradient Boosting mode."
      ],
      "metadata": {
        "id": "G0u4yyR29VUd"
      }
    },
    {
      "cell_type": "markdown",
      "source": [
        "#**Final Discussion and Recommendations.**\n",
        "**Model Strengths and Limitation:**\n",
        "\n",
        "\n",
        "**Strengths:**\n",
        "\n",
        "- **The Gradient Boosting Model** captued non-linear relationships effectively , making it the most accurate model for this task.\n",
        "\n",
        "- It provided insights into the most important factors driving price, which can be used for strategic decision-making.\n",
        "\n",
        "**Limitations:**\n",
        "- **The Gradient Boosting Model** is more expenise (computationally) and complex compared to simpler models like Linear Regression.\n",
        "\n",
        "- The model might need to be retrained periodically as market conditions and competitor pricing strategies change.\n",
        "\n",
        "\n"
      ],
      "metadata": {
        "id": "QXMmvODmAhnL"
      }
    },
    {
      "cell_type": "markdown",
      "source": [
        "# **Business Recommendations:**\n",
        "\n",
        "Based on the feature importance analysis , the following startegies are recommended for optimizing retail pricing :     \n",
        "\n",
        "**-** **Monitor Competitor Prices:**\n",
        "\n",
        "Competitor prices (comp3,comp2) significantly impact total prices. The company should closely monitor competitors and adjust pricing dynamically to remain competitive.\n",
        "\n",
        "**-** **Optimize Shipping Costs:**\n",
        "\n",
        "Since shipping (freight_price) play a major role , optimizing logistics and reducing shipping costs can help improve profitabiliy.\n",
        "\n",
        "**-** **Weekend Promotions:**\n",
        "\n",
        "Given the influence of weekend sales , consider offering targeted promotions during weekends to boost sales and revenue.\n",
        "\n",
        "**-** **Demand-Based Pricing:**\n",
        "\n",
        "The quantity sold (qty) is a key driver of price. Consider implementing dynamic pricing strategies based on real-time demand to maximize revenue."
      ],
      "metadata": {
        "id": "YvuK3J1KFbFt"
      }
    },
    {
      "cell_type": "markdown",
      "source": [
        "# **Conclusion:**\n",
        "\n",
        "The **Gradient Boosting Model** was the most effective for predicting total prices in retail environment. By leveraging the insights gained from this model, the company can optimize its pricing strategies , stay competitive in the market and maximize revenue. Future work could include exploring additional features such as seasonal trends and customer segmentation to further enhance model accuracy."
      ],
      "metadata": {
        "id": "EWGzl16FIDAy"
      }
    }
  ]
}